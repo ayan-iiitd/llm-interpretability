{
 "cells": [
  {
   "cell_type": "code",
   "execution_count": 1,
   "id": "6288e0e9",
   "metadata": {},
   "outputs": [],
   "source": [
    "import json\n",
    "import pandas as pd\n",
    "from rich import print as pp\n",
    "from icecream import ic"
   ]
  },
  {
   "cell_type": "code",
   "execution_count": null,
   "id": "967da117",
   "metadata": {},
   "outputs": [],
   "source": [
    "with open('./data/beetle_2_train_formatted.json', 'r') as file_reader:\n",
    "    betl2train = json.load(file_reader)\n",
    "\n",
    "model_names = ['microsoft/Phi-4-mini-instruct',\n",
    "               'google/gemma-3-4b-it',\n",
    "               'meta-llama/Llama-3.2-3B-Instruct',\n",
    "               'Qwen/Qwen3-4B']\n",
    "\n",
    "# col_names = ['s_a_id', 'q_id', 'label'] + model_names\n",
    "col_names = ['s_a_id', 'q_id', 'label']\n",
    "\n",
    "df = pd.DataFrame(columns = col_names)"
   ]
  },
  {
   "cell_type": "code",
   "execution_count": 3,
   "id": "56ece665",
   "metadata": {},
   "outputs": [],
   "source": [
    "s_a_id = 1\n",
    "df = pd.DataFrame(columns = col_names)\n",
    "data_dict = dict()\n",
    "\n",
    "for qid in betl2train:\n",
    "\n",
    "    for s_a in betl2train[qid]['s_a']:\n",
    "        \n",
    "        # to_append = [s_a_id, qid, s_a['accuracy'], '','','','']\n",
    "        to_append = [s_a_id, qid, s_a['accuracy']]\n",
    "        df.loc[len(df)] = to_append\n",
    "        \n",
    "        data_dict[s_a_id] = {'qid': qid,\n",
    "                             'q': betl2train[qid]['q'],\n",
    "                             'r_a': betl2train[qid]['r_a'],\n",
    "                             's_a': s_a['answer'],\n",
    "                             'label': s_a['accuracy']}\n",
    "        \n",
    "        s_a_id += 1\n",
    "\n",
    "for m in model_names:\n",
    "    df[m] = [\"\"] * len(df)\n",
    "\n",
    "for col in df:\n",
    "    df[col] = df[col].astype(str)"
   ]
  },
  {
   "cell_type": "code",
   "execution_count": null,
   "id": "2c6a0fc7",
   "metadata": {},
   "outputs": [],
   "source": [
    "df.to_csv('./results/0_base_data_no_result.csv', index = False)\n",
    "with open('./data/betl2train_with_s_a_id.json', 'w') as file_writer:\n",
    "    json.dump(data_dict, file_writer)"
   ]
  },
  {
   "cell_type": "code",
   "execution_count": 5,
   "id": "1ebb5e3e",
   "metadata": {},
   "outputs": [],
   "source": [
    "## edit specific cell value in dataframe\n",
    "\n",
    "# df.loc[1, 'microsoft/Phi-4-mini-instruct'] = 'Modified Value'\n",
    "# df.at[0, 'google/gemma-3-4b-it'] = 10\n",
    "\n",
    "# df"
   ]
  }
 ],
 "metadata": {
  "kernelspec": {
   "display_name": "Python 3",
   "language": "python",
   "name": "python3"
  },
  "language_info": {
   "codemirror_mode": {
    "name": "ipython",
    "version": 3
   },
   "file_extension": ".py",
   "mimetype": "text/x-python",
   "name": "python",
   "nbconvert_exporter": "python",
   "pygments_lexer": "ipython3",
   "version": "3.11.11"
  }
 },
 "nbformat": 4,
 "nbformat_minor": 5
}
